{
 "cells": [
  {
   "cell_type": "markdown",
   "id": "b024a89d-0c73-40d3-8c73-236265ed6db5",
   "metadata": {},
   "source": [
    "# Data Science Tools and Ecosystem"
   ]
  },
  {
   "cell_type": "markdown",
   "id": "e88e82a8-8b2f-42fa-aece-8869b68a0c8f",
   "metadata": {},
   "source": [
    "In this notebook, Data Science Tools and Ecosystem are summarized."
   ]
  },
  {
   "cell_type": "markdown",
   "id": "15bfdbfd-4a39-4e9f-8289-05e92f35b374",
   "metadata": {},
   "source": [
    "**Objectives:**\n",
    "- Listing popular data science languages\n",
    "- Listing commonly used libraries by data scientists\n",
    "- Listing popular data science tools"
   ]
  },
  {
   "cell_type": "markdown",
   "id": "463d0f5c-93b0-49f1-828b-020ab25f960f",
   "metadata": {},
   "source": [
    "Some of the popular languages that Data Scientists use are:\n",
    "1. Python\n",
    "2. R\n",
    "3. SQL"
   ]
  },
  {
   "cell_type": "markdown",
   "id": "6d0e128e-2af0-473f-a720-f0f154765377",
   "metadata": {},
   "source": [
    "Some of the commonly used libraries used by Data Scientists include:\n",
    "1. Pandas\n",
    "2. Numpy\n",
    "3. Matplotlib"
   ]
  },
  {
   "cell_type": "markdown",
   "id": "358f5bf1-ba24-4546-bcb1-b4ecaab9f845",
   "metadata": {},
   "source": [
    "|***Data Science Tools***|\n",
    "|------------------------|\n",
    "| Apache Spark           |\n",
    "| Hadoop                 |\n",
    "| Jupyter Notebook       |"
   ]
  },
  {
   "cell_type": "markdown",
   "id": "27a0717c-da80-47e7-b404-a60478a9beda",
   "metadata": {},
   "source": [
    "### Below are a few examples of evaluating arithmetic expressions in Python\n",
    "8-(2*7)\n"
   ]
  },
  {
   "cell_type": "code",
   "execution_count": 1,
   "id": "f4d168c1-b911-496c-a8ea-910888c4d071",
   "metadata": {
    "tags": []
   },
   "outputs": [
    {
     "data": {
      "text/plain": [
       "17"
      ]
     },
     "execution_count": 1,
     "metadata": {},
     "output_type": "execute_result"
    }
   ],
   "source": [
    "# This a simple arithmetic expression to mutiply then add integers\n",
    "(3*4)+5"
   ]
  },
  {
   "cell_type": "code",
   "execution_count": 2,
   "id": "b405c1d7-0d71-4c3e-a715-acde14de460a",
   "metadata": {
    "tags": []
   },
   "outputs": [
    {
     "data": {
      "text/plain": [
       "3.3333333333333335"
      ]
     },
     "execution_count": 2,
     "metadata": {},
     "output_type": "execute_result"
    }
   ],
   "source": [
    "# This will convert 200 minutes into hours by dividing by 60\n",
    "200/60"
   ]
  },
  {
   "attachments": {},
   "cell_type": "markdown",
   "id": "d2cbd7ea-16a6-4743-b481-b81d9113d677",
   "metadata": {},
   "source": [
    "## Author\n",
    "Muhammad Ahsan Adil"
   ]
  },
  {
   "cell_type": "code",
   "execution_count": null,
   "id": "a51b75f2-1e87-427a-9ffd-5c46d9ede2d1",
   "metadata": {},
   "outputs": [],
   "source": []
  }
 ],
 "metadata": {
  "kernelspec": {
   "display_name": "Python",
   "language": "python",
   "name": "conda-env-python-py"
  },
  "language_info": {
   "codemirror_mode": {
    "name": "ipython",
    "version": 3
   },
   "file_extension": ".py",
   "mimetype": "text/x-python",
   "name": "python",
   "nbconvert_exporter": "python",
   "pygments_lexer": "ipython3",
   "version": "3.7.12"
  }
 },
 "nbformat": 4,
 "nbformat_minor": 5
}
